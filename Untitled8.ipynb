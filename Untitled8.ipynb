{
 "cells": [
  {
   "cell_type": "code",
   "execution_count": 1,
   "id": "05c1c040",
   "metadata": {},
   "outputs": [],
   "source": [
    "from scipy.io import arff\n",
    "import pandas as pd\n",
    "import numpy as np\n",
    "import seaborn as sns\n",
    "import matplotlib.pyplot as plt\n",
    "import time"
   ]
  },
  {
   "cell_type": "code",
   "execution_count": 2,
   "id": "f9f63f18",
   "metadata": {},
   "outputs": [],
   "source": [
    "from sklearn.metrics import confusion_matrix\n",
    "from sklearn.model_selection import GridSearchCV\n",
    "from sklearn.metrics import accuracy_score, f1_score\n",
    "from scikeras.wrappers import KerasClassifier\n",
    "path = \"D:/CLAMSS/Machine Learning Systems for Data Science/projjj/90477_project_pr16/figures/\"\n",
    "\n",
    "def confusion_plot(y_pred, y_test, normal, col_map, title, t_col, path, fig_name):\n",
    "    confusion = confusion_matrix(y_pred, y_test, normalize= normal)\n",
    "    sns.heatmap(confusion.T, annot=True, fmt=\".1%\", cmap = col_map)\n",
    "    plt.xlabel(\"True label\")\n",
    "    plt.ylabel(\"Predicted label\")\n",
    "    plt.title(title, c = t_col)\n",
    "    plt.savefig(path + fig_name,\n",
    "                dpi = 600,\n",
    "               transparent = True)\n",
    "    \n",
    "def GS(alg, params, n_fold):\n",
    "    grid_search = GridSearchCV(estimator = alg,\n",
    "                           param_grid = params,\n",
    "                           scoring = 'accuracy',\n",
    "                           cv = n_fold,\n",
    "                           n_jobs = -1)\n",
    "    grid_search = grid_search.fit(X_train, y_train)\n",
    "    best_accuracy = grid_search.best_score_\n",
    "    best_parameters = grid_search.best_params_\n",
    "    print(best_accuracy)\n",
    "    print(best_parameters)\n",
    "\n",
    "def scores(y_test, y_pred):\n",
    "    print(accuracy_score(y_test, y_pred))\n",
    "    print(f1_score(y_test, y_pred, average= None))\n",
    "    print(f1_score(y_test, y_pred, average= 'weighted'))\n",
    "    \n",
    "def maximum_position(array):\n",
    "    m = array[0]\n",
    "    pos = 0\n",
    "    for i in range(1, len(array)):\n",
    "        if array[i] > m:\n",
    "            m = array[i]\n",
    "            pos = i\n",
    "    return pos\n",
    "\n",
    "def inv_encode(mat):\n",
    "    inv = []\n",
    "    for i in range(len(mat)):\n",
    "        for j in range(len(mat[i])):\n",
    "            if mat[i, j]:\n",
    "                inv.append(j)\n",
    "    return inv\n",
    "\n",
    "### to apply gridSearch on NN\n",
    "def mod():\n",
    "    neural = Sequential()\n",
    "    neural.add(Dense(units = 64, activation='relu', input_dim = 20))\n",
    "    neural.add(Dense(units = 128, activation='relu'))\n",
    "    neural.add(Dense(units = 3, activation= 'softmax'))\n",
    "    return neural"
   ]
  },
  {
   "cell_type": "code",
   "execution_count": 3,
   "id": "925d4b2e",
   "metadata": {},
   "outputs": [
    {
     "data": {
      "text/html": [
       "<div>\n",
       "<style scoped>\n",
       "    .dataframe tbody tr th:only-of-type {\n",
       "        vertical-align: middle;\n",
       "    }\n",
       "\n",
       "    .dataframe tbody tr th {\n",
       "        vertical-align: top;\n",
       "    }\n",
       "\n",
       "    .dataframe thead th {\n",
       "        text-align: right;\n",
       "    }\n",
       "</style>\n",
       "<table border=\"1\" class=\"dataframe\">\n",
       "  <thead>\n",
       "    <tr style=\"text-align: right;\">\n",
       "      <th></th>\n",
       "      <th>WMC</th>\n",
       "      <th>LCOM</th>\n",
       "      <th>NBD</th>\n",
       "      <th>DIT</th>\n",
       "      <th>NOC</th>\n",
       "      <th>NORM</th>\n",
       "      <th>SIX</th>\n",
       "      <th>MLOC</th>\n",
       "      <th>NAC</th>\n",
       "      <th>NSF</th>\n",
       "      <th>NSM</th>\n",
       "      <th>PAR</th>\n",
       "    </tr>\n",
       "  </thead>\n",
       "  <tbody>\n",
       "    <tr>\n",
       "      <th>count</th>\n",
       "      <td>2191.000000</td>\n",
       "      <td>2191.000000</td>\n",
       "      <td>2191.000000</td>\n",
       "      <td>2191.000000</td>\n",
       "      <td>2191.000000</td>\n",
       "      <td>2191.000000</td>\n",
       "      <td>2191.000000</td>\n",
       "      <td>2191.000000</td>\n",
       "      <td>2191.000000</td>\n",
       "      <td>2191.000000</td>\n",
       "      <td>2191.000000</td>\n",
       "      <td>2191.000000</td>\n",
       "    </tr>\n",
       "    <tr>\n",
       "      <th>mean</th>\n",
       "      <td>8.692969</td>\n",
       "      <td>0.364046</td>\n",
       "      <td>0.979642</td>\n",
       "      <td>1.286565</td>\n",
       "      <td>0.140964</td>\n",
       "      <td>0.020751</td>\n",
       "      <td>0.006911</td>\n",
       "      <td>3.328572</td>\n",
       "      <td>3.832841</td>\n",
       "      <td>0.058722</td>\n",
       "      <td>0.414093</td>\n",
       "      <td>0.863265</td>\n",
       "    </tr>\n",
       "    <tr>\n",
       "      <th>std</th>\n",
       "      <td>6.851811</td>\n",
       "      <td>0.239043</td>\n",
       "      <td>0.364132</td>\n",
       "      <td>0.378102</td>\n",
       "      <td>0.189869</td>\n",
       "      <td>0.284837</td>\n",
       "      <td>0.062477</td>\n",
       "      <td>4.740267</td>\n",
       "      <td>2.179743</td>\n",
       "      <td>0.178668</td>\n",
       "      <td>0.535679</td>\n",
       "      <td>0.891607</td>\n",
       "    </tr>\n",
       "    <tr>\n",
       "      <th>min</th>\n",
       "      <td>0.000000</td>\n",
       "      <td>0.000000</td>\n",
       "      <td>0.000000</td>\n",
       "      <td>0.000000</td>\n",
       "      <td>0.000000</td>\n",
       "      <td>0.000000</td>\n",
       "      <td>0.000000</td>\n",
       "      <td>0.000000</td>\n",
       "      <td>0.000000</td>\n",
       "      <td>0.000000</td>\n",
       "      <td>0.000000</td>\n",
       "      <td>0.000000</td>\n",
       "    </tr>\n",
       "    <tr>\n",
       "      <th>25%</th>\n",
       "      <td>4.000000</td>\n",
       "      <td>0.211000</td>\n",
       "      <td>1.000000</td>\n",
       "      <td>1.000000</td>\n",
       "      <td>0.000000</td>\n",
       "      <td>0.000000</td>\n",
       "      <td>0.000000</td>\n",
       "      <td>1.333000</td>\n",
       "      <td>3.000000</td>\n",
       "      <td>0.000000</td>\n",
       "      <td>0.200000</td>\n",
       "      <td>0.500000</td>\n",
       "    </tr>\n",
       "    <tr>\n",
       "      <th>50%</th>\n",
       "      <td>8.000000</td>\n",
       "      <td>0.444000</td>\n",
       "      <td>1.033000</td>\n",
       "      <td>1.333000</td>\n",
       "      <td>0.000000</td>\n",
       "      <td>0.000000</td>\n",
       "      <td>0.000000</td>\n",
       "      <td>2.433000</td>\n",
       "      <td>3.500000</td>\n",
       "      <td>0.000000</td>\n",
       "      <td>0.333000</td>\n",
       "      <td>0.833000</td>\n",
       "    </tr>\n",
       "    <tr>\n",
       "      <th>75%</th>\n",
       "      <td>11.333000</td>\n",
       "      <td>0.538000</td>\n",
       "      <td>1.071000</td>\n",
       "      <td>1.500000</td>\n",
       "      <td>0.333000</td>\n",
       "      <td>0.000000</td>\n",
       "      <td>0.000000</td>\n",
       "      <td>3.784500</td>\n",
       "      <td>4.750000</td>\n",
       "      <td>0.000000</td>\n",
       "      <td>0.500000</td>\n",
       "      <td>1.125000</td>\n",
       "    </tr>\n",
       "    <tr>\n",
       "      <th>max</th>\n",
       "      <td>35.000000</td>\n",
       "      <td>0.960000</td>\n",
       "      <td>3.000000</td>\n",
       "      <td>3.667000</td>\n",
       "      <td>0.667000</td>\n",
       "      <td>5.333000</td>\n",
       "      <td>0.800000</td>\n",
       "      <td>69.000000</td>\n",
       "      <td>13.000000</td>\n",
       "      <td>2.400000</td>\n",
       "      <td>5.200000</td>\n",
       "      <td>10.000000</td>\n",
       "    </tr>\n",
       "  </tbody>\n",
       "</table>\n",
       "</div>"
      ],
      "text/plain": [
       "               WMC         LCOM          NBD          DIT          NOC  \\\n",
       "count  2191.000000  2191.000000  2191.000000  2191.000000  2191.000000   \n",
       "mean      8.692969     0.364046     0.979642     1.286565     0.140964   \n",
       "std       6.851811     0.239043     0.364132     0.378102     0.189869   \n",
       "min       0.000000     0.000000     0.000000     0.000000     0.000000   \n",
       "25%       4.000000     0.211000     1.000000     1.000000     0.000000   \n",
       "50%       8.000000     0.444000     1.033000     1.333000     0.000000   \n",
       "75%      11.333000     0.538000     1.071000     1.500000     0.333000   \n",
       "max      35.000000     0.960000     3.000000     3.667000     0.667000   \n",
       "\n",
       "              NORM          SIX         MLOC          NAC          NSF  \\\n",
       "count  2191.000000  2191.000000  2191.000000  2191.000000  2191.000000   \n",
       "mean      0.020751     0.006911     3.328572     3.832841     0.058722   \n",
       "std       0.284837     0.062477     4.740267     2.179743     0.178668   \n",
       "min       0.000000     0.000000     0.000000     0.000000     0.000000   \n",
       "25%       0.000000     0.000000     1.333000     3.000000     0.000000   \n",
       "50%       0.000000     0.000000     2.433000     3.500000     0.000000   \n",
       "75%       0.000000     0.000000     3.784500     4.750000     0.000000   \n",
       "max       5.333000     0.800000    69.000000    13.000000     2.400000   \n",
       "\n",
       "               NSM          PAR  \n",
       "count  2191.000000  2191.000000  \n",
       "mean      0.414093     0.863265  \n",
       "std       0.535679     0.891607  \n",
       "min       0.000000     0.000000  \n",
       "25%       0.200000     0.500000  \n",
       "50%       0.333000     0.833000  \n",
       "75%       0.500000     1.125000  \n",
       "max       5.200000    10.000000  "
      ]
     },
     "execution_count": 3,
     "metadata": {},
     "output_type": "execute_result"
    }
   ],
   "source": [
    "data = arff.loadarff(\"D:/CLAMSS/Machine Learning Systems for Data Science/projjj/90477_project_pr16/data/data.arff\")\n",
    "df = pd.DataFrame(data[0])\n",
    "df.iloc[:, :12].describe()"
   ]
  },
  {
   "cell_type": "code",
   "execution_count": 4,
   "id": "204c3f5e",
   "metadata": {},
   "outputs": [
    {
     "data": {
      "text/html": [
       "<div>\n",
       "<style scoped>\n",
       "    .dataframe tbody tr th:only-of-type {\n",
       "        vertical-align: middle;\n",
       "    }\n",
       "\n",
       "    .dataframe tbody tr th {\n",
       "        vertical-align: top;\n",
       "    }\n",
       "\n",
       "    .dataframe thead th {\n",
       "        text-align: right;\n",
       "    }\n",
       "</style>\n",
       "<table border=\"1\" class=\"dataframe\">\n",
       "  <thead>\n",
       "    <tr style=\"text-align: right;\">\n",
       "      <th></th>\n",
       "      <th>NOI</th>\n",
       "      <th>NOP</th>\n",
       "      <th>I</th>\n",
       "      <th>A</th>\n",
       "      <th>Dn</th>\n",
       "      <th>debug</th>\n",
       "      <th>breakpoint</th>\n",
       "      <th>refactoring</th>\n",
       "      <th>CodErro</th>\n",
       "      <th>qtdeErros</th>\n",
       "    </tr>\n",
       "  </thead>\n",
       "  <tbody>\n",
       "    <tr>\n",
       "      <th>count</th>\n",
       "      <td>2191.000000</td>\n",
       "      <td>2191.000000</td>\n",
       "      <td>2191.000000</td>\n",
       "      <td>2191.000000</td>\n",
       "      <td>2191.000000</td>\n",
       "      <td>2191.0</td>\n",
       "      <td>2191.0</td>\n",
       "      <td>2191.000000</td>\n",
       "      <td>2191.000000</td>\n",
       "      <td>2191.000000</td>\n",
       "    </tr>\n",
       "    <tr>\n",
       "      <th>mean</th>\n",
       "      <td>0.000456</td>\n",
       "      <td>1.477864</td>\n",
       "      <td>0.904996</td>\n",
       "      <td>0.026770</td>\n",
       "      <td>0.114564</td>\n",
       "      <td>0.0</td>\n",
       "      <td>0.0</td>\n",
       "      <td>0.216796</td>\n",
       "      <td>1.404838</td>\n",
       "      <td>0.719306</td>\n",
       "    </tr>\n",
       "    <tr>\n",
       "      <th>std</th>\n",
       "      <td>0.015103</td>\n",
       "      <td>0.646973</td>\n",
       "      <td>0.192867</td>\n",
       "      <td>0.093521</td>\n",
       "      <td>0.196205</td>\n",
       "      <td>0.0</td>\n",
       "      <td>0.0</td>\n",
       "      <td>0.412157</td>\n",
       "      <td>2.698207</td>\n",
       "      <td>1.464398</td>\n",
       "    </tr>\n",
       "    <tr>\n",
       "      <th>min</th>\n",
       "      <td>0.000000</td>\n",
       "      <td>0.000000</td>\n",
       "      <td>0.000000</td>\n",
       "      <td>0.000000</td>\n",
       "      <td>0.000000</td>\n",
       "      <td>0.0</td>\n",
       "      <td>0.0</td>\n",
       "      <td>0.000000</td>\n",
       "      <td>0.000000</td>\n",
       "      <td>0.000000</td>\n",
       "    </tr>\n",
       "    <tr>\n",
       "      <th>25%</th>\n",
       "      <td>0.000000</td>\n",
       "      <td>1.000000</td>\n",
       "      <td>1.000000</td>\n",
       "      <td>0.000000</td>\n",
       "      <td>0.000000</td>\n",
       "      <td>0.0</td>\n",
       "      <td>0.0</td>\n",
       "      <td>0.000000</td>\n",
       "      <td>0.000000</td>\n",
       "      <td>0.000000</td>\n",
       "    </tr>\n",
       "    <tr>\n",
       "      <th>50%</th>\n",
       "      <td>0.000000</td>\n",
       "      <td>1.000000</td>\n",
       "      <td>1.000000</td>\n",
       "      <td>0.000000</td>\n",
       "      <td>0.000000</td>\n",
       "      <td>0.0</td>\n",
       "      <td>0.0</td>\n",
       "      <td>0.000000</td>\n",
       "      <td>0.000000</td>\n",
       "      <td>0.000000</td>\n",
       "    </tr>\n",
       "    <tr>\n",
       "      <th>75%</th>\n",
       "      <td>0.000000</td>\n",
       "      <td>2.000000</td>\n",
       "      <td>1.000000</td>\n",
       "      <td>0.000000</td>\n",
       "      <td>0.167000</td>\n",
       "      <td>0.0</td>\n",
       "      <td>0.0</td>\n",
       "      <td>0.000000</td>\n",
       "      <td>1.000000</td>\n",
       "      <td>1.000000</td>\n",
       "    </tr>\n",
       "    <tr>\n",
       "      <th>max</th>\n",
       "      <td>0.500000</td>\n",
       "      <td>3.000000</td>\n",
       "      <td>1.000000</td>\n",
       "      <td>1.000000</td>\n",
       "      <td>1.000000</td>\n",
       "      <td>0.0</td>\n",
       "      <td>0.0</td>\n",
       "      <td>1.000000</td>\n",
       "      <td>12.000000</td>\n",
       "      <td>24.000000</td>\n",
       "    </tr>\n",
       "  </tbody>\n",
       "</table>\n",
       "</div>"
      ],
      "text/plain": [
       "               NOI          NOP            I            A           Dn  \\\n",
       "count  2191.000000  2191.000000  2191.000000  2191.000000  2191.000000   \n",
       "mean      0.000456     1.477864     0.904996     0.026770     0.114564   \n",
       "std       0.015103     0.646973     0.192867     0.093521     0.196205   \n",
       "min       0.000000     0.000000     0.000000     0.000000     0.000000   \n",
       "25%       0.000000     1.000000     1.000000     0.000000     0.000000   \n",
       "50%       0.000000     1.000000     1.000000     0.000000     0.000000   \n",
       "75%       0.000000     2.000000     1.000000     0.000000     0.167000   \n",
       "max       0.500000     3.000000     1.000000     1.000000     1.000000   \n",
       "\n",
       "        debug  breakpoint  refactoring      CodErro    qtdeErros  \n",
       "count  2191.0      2191.0  2191.000000  2191.000000  2191.000000  \n",
       "mean      0.0         0.0     0.216796     1.404838     0.719306  \n",
       "std       0.0         0.0     0.412157     2.698207     1.464398  \n",
       "min       0.0         0.0     0.000000     0.000000     0.000000  \n",
       "25%       0.0         0.0     0.000000     0.000000     0.000000  \n",
       "50%       0.0         0.0     0.000000     0.000000     0.000000  \n",
       "75%       0.0         0.0     0.000000     1.000000     1.000000  \n",
       "max       0.0         0.0     1.000000    12.000000    24.000000  "
      ]
     },
     "execution_count": 4,
     "metadata": {},
     "output_type": "execute_result"
    }
   ],
   "source": [
    "df.iloc[:, 12:].describe()"
   ]
  },
  {
   "cell_type": "code",
   "execution_count": 5,
   "id": "867c8c3c",
   "metadata": {},
   "outputs": [],
   "source": [
    "df = df.drop(columns=['debug', 'breakpoint'])"
   ]
  },
  {
   "cell_type": "code",
   "execution_count": 6,
   "id": "a5624a38",
   "metadata": {},
   "outputs": [
    {
     "data": {
      "text/plain": [
       "array(['basic', 'intermediate', 'proficient'], dtype=object)"
      ]
     },
     "execution_count": 6,
     "metadata": {},
     "output_type": "execute_result"
    }
   ],
   "source": [
    "df.classe = df.classe.apply(lambda cell: cell.decode())\n",
    "df['classe'].unique()"
   ]
  },
  {
   "cell_type": "code",
   "execution_count": 7,
   "id": "99790578",
   "metadata": {},
   "outputs": [
    {
     "name": "stdout",
     "output_type": "stream",
     "text": [
      "(2191, 20)\n",
      "(2191,)\n"
     ]
    }
   ],
   "source": [
    "X = df.drop(columns=['classe'])\n",
    "y = df.classe\n",
    "print(X.shape)\n",
    "print(y.shape)"
   ]
  },
  {
   "cell_type": "code",
   "execution_count": 196,
   "id": "d8fc6575",
   "metadata": {},
   "outputs": [
    {
     "data": {
      "image/png": "[encoded data removed]",
      "text/plain": [
       "<Figure size 432x288 with 1 Axes>"
      ]
     },
     "metadata": {
      "needs_background": "light"
     },
     "output_type": "display_data"
    }
   ],
   "source": [
    "y.hist()\n",
    "plt.savefig(path + \"hist.jpg\", dpi = 600, transparent = True)"
   ]
  },
  {
   "cell_type": "code",
   "execution_count": 198,
   "id": "094694ec",
   "metadata": {},
   "outputs": [
    {
     "data": {
      "image/png": "[encoded data removed]",
      "text/plain": [
       "<Figure size 432x288 with 2 Axes>"
      ]
     },
     "metadata": {
      "needs_background": "light"
     },
     "output_type": "display_data"
    }
   ],
   "source": [
    "sns.heatmap(df.corr())\n",
    "plt.savefig(path + \"Correlations.jpg\", dpi = 600, transparent = True)"
   ]
  },
  {
   "cell_type": "code",
   "execution_count": 8,
   "id": "0dc5b461",
   "metadata": {},
   "outputs": [],
   "source": [
    "from sklearn.preprocessing import LabelEncoder\n",
    "le = LabelEncoder()\n",
    "y = le.fit_transform(y)"
   ]
  },
  {
   "cell_type": "code",
   "execution_count": 9,
   "id": "a0bda387",
   "metadata": {},
   "outputs": [
    {
     "name": "stdout",
     "output_type": "stream",
     "text": [
      "(1643, 20) (548, 20) (1643,) (548,)\n"
     ]
    }
   ],
   "source": [
    "### Spliting the dataset into training data and test data\n",
    "from sklearn.model_selection import train_test_split\n",
    "X_train, X_test, y_train, y_test = train_test_split(X, y, random_state = 42, test_size = .25)\n",
    "print(X_train.shape, X_test.shape, y_train.shape, y_test.shape)"
   ]
  },
  {
   "cell_type": "code",
   "execution_count": 10,
   "id": "40584e94",
   "metadata": {},
   "outputs": [],
   "source": [
    "### Naive Bayes (NB)\n",
    "from sklearn.naive_bayes import GaussianNB\n",
    "naive = GaussianNB()\n",
    "naive.fit(X_train, y_train)\n",
    "y_pred = naive.predict(X_test)"
   ]
  },
  {
   "cell_type": "code",
   "execution_count": 11,
   "id": "c3002acb",
   "metadata": {},
   "outputs": [
    {
     "name": "stdout",
     "output_type": "stream",
     "text": [
      "0.5164233576642335\n",
      "[0.6741573  0.06751055 0.60386473]\n",
      "0.39897199126651584\n"
     ]
    }
   ],
   "source": [
    "scores(y_test, y_pred)"
   ]
  },
  {
   "cell_type": "code",
   "execution_count": 173,
   "id": "b059588d",
   "metadata": {},
   "outputs": [
    {
     "name": "stdout",
     "output_type": "stream",
     "text": [
      "0.6256836659275684\n",
      "{'var_smoothing': 0.0006579332246575676}\n"
     ]
    }
   ],
   "source": [
    "### 10-fold CV GridSearch for NB\n",
    "parameters = [{'var_smoothing': np.logspace(0,-9, num=100)}]\n",
    "GS(naive, parameters, 10)"
   ]
  },
  {
   "cell_type": "code",
   "execution_count": 12,
   "id": "55e8566e",
   "metadata": {},
   "outputs": [
    {
     "name": "stdout",
     "output_type": "stream",
     "text": [
      "0.003964424133300781\n"
     ]
    }
   ],
   "source": [
    "### NB after GridSearch (GS)\n",
    "naive = GaussianNB(var_smoothing = 0.0006579332246575676)\n",
    "t1 = time.time()\n",
    "naive.fit(X_train, y_train)\n",
    "t2 = time.time()\n",
    "y_pred = naive.predict(X_test)\n",
    "print(t2-t1)"
   ]
  },
  {
   "cell_type": "code",
   "execution_count": 13,
   "id": "4840675c",
   "metadata": {},
   "outputs": [
    {
     "name": "stdout",
     "output_type": "stream",
     "text": [
      "0.5711678832116789\n",
      "[0.70361446 0.33676976 0.60512821]\n",
      "0.5199436318530197\n"
     ]
    }
   ],
   "source": [
    "scores(y_test, y_pred)"
   ]
  },
  {
   "cell_type": "code",
   "execution_count": 204,
   "id": "9b654295",
   "metadata": {},
   "outputs": [
    {
     "data": {
      "image/png": "[encoded data removed]",
      "text/plain": [
       "<Figure size 432x288 with 2 Axes>"
      ]
     },
     "metadata": {
      "needs_background": "light"
     },
     "output_type": "display_data"
    }
   ],
   "source": [
    "### Confusion Matrix\n",
    "confusion_plot(y_pred, y_test, normal = \"true\", col_map = \"GnBu\", title = \"Naive Bayes\", t_col = \"red\", path = path, fig_name = \"Naive Bayes.jpg\")"
   ]
  },
  {
   "cell_type": "code",
   "execution_count": 206,
   "id": "99ea9133",
   "metadata": {},
   "outputs": [],
   "source": [
    "### Feature Scaling\n",
    "from sklearn.preprocessing import StandardScaler\n",
    "sc = StandardScaler()\n",
    "X_train = sc.fit_transform(X_train)\n",
    "X_test = sc.transform(X_test)"
   ]
  },
  {
   "cell_type": "code",
   "execution_count": 207,
   "id": "bc3015fd",
   "metadata": {},
   "outputs": [],
   "source": [
    "### KNN\n",
    "from sklearn.neighbors import KNeighborsClassifier\n",
    "knn = KNeighborsClassifier(n_neighbors = 5, metric = 'minkowski', p = 2)\n",
    "knn.fit(X_train, y_train)\n",
    "y_pred = knn.predict(X_test)"
   ]
  },
  {
   "cell_type": "code",
   "execution_count": 208,
   "id": "7f2e5314",
   "metadata": {},
   "outputs": [
    {
     "name": "stdout",
     "output_type": "stream",
     "text": [
      "0.822992700729927\n",
      "[0.79646018 0.85057471 0.8136646 ]\n",
      "0.8243794753909878\n"
     ]
    }
   ],
   "source": [
    "scores(y_test, y_pred)"
   ]
  },
  {
   "cell_type": "code",
   "execution_count": 209,
   "id": "223eb58d",
   "metadata": {},
   "outputs": [
    {
     "name": "stdout",
     "output_type": "stream",
     "text": [
      "0.8831633407243163\n",
      "{'n_neighbors': 1, 'p': 1}\n"
     ]
    }
   ],
   "source": [
    "### GS for KNN\n",
    "parameters = [{'n_neighbors': [1, 3, 5, 7, 9, 11, 13, 15], 'p': [1, 2, 3, 4, 5, 6, 7, 8, 9, 10]}]\n",
    "GS(knn, parameters, 10)"
   ]
  },
  {
   "cell_type": "code",
   "execution_count": 210,
   "id": "16d3814e",
   "metadata": {},
   "outputs": [
    {
     "name": "stdout",
     "output_type": "stream",
     "text": [
      "0.0020089149475097656\n"
     ]
    }
   ],
   "source": [
    "### KNN after GS\n",
    "knn = KNeighborsClassifier(n_neighbors = 1, metric = 'minkowski', p = 1)\n",
    "t1 = time.time()\n",
    "knn.fit(X_train, y_train)\n",
    "t2 = time.time()\n",
    "y_pred = knn.predict(X_test)\n",
    "print(t2-t1)"
   ]
  },
  {
   "cell_type": "code",
   "execution_count": 211,
   "id": "9101c7c0",
   "metadata": {},
   "outputs": [
    {
     "name": "stdout",
     "output_type": "stream",
     "text": [
      "0.8813868613138686\n",
      "[0.87542088 0.89823009 0.86455331]\n",
      "0.8816009701917398\n"
     ]
    }
   ],
   "source": [
    "scores(y_test, y_pred)"
   ]
  },
  {
   "cell_type": "code",
   "execution_count": 212,
   "id": "fcc85d86",
   "metadata": {},
   "outputs": [
    {
     "data": {
      "image/png": "[encoded data removed]",
      "text/plain": [
       "<Figure size 432x288 with 2 Axes>"
      ]
     },
     "metadata": {
      "needs_background": "light"
     },
     "output_type": "display_data"
    }
   ],
   "source": [
    "confusion_plot(y_pred, y_test, normal = \"true\", col_map = \"GnBu\", title = \"K Nearest Neighbors (KNN)\", t_col = \"red\", path = path, fig_name = \"knn.jpg\")"
   ]
  },
  {
   "cell_type": "code",
   "execution_count": 14,
   "id": "81352c35",
   "metadata": {},
   "outputs": [],
   "source": [
    "### Decision Tree\n",
    "from sklearn.tree import DecisionTreeClassifier\n",
    "dt = DecisionTreeClassifier(criterion='entropy', max_depth=10, random_state= 42)\n",
    "dt.fit(X_train, y_train)\n",
    "y_pred = dt.predict(X_test)"
   ]
  },
  {
   "cell_type": "code",
   "execution_count": 15,
   "id": "ad30c9ce",
   "metadata": {},
   "outputs": [
    {
     "name": "stdout",
     "output_type": "stream",
     "text": [
      "0.885036496350365\n",
      "[0.84705882 0.92027335 0.87697161]\n",
      "0.8868788726881208\n"
     ]
    }
   ],
   "source": [
    "scores(y_test, y_pred)"
   ]
  },
  {
   "cell_type": "code",
   "execution_count": 33,
   "id": "0fd7abf5",
   "metadata": {},
   "outputs": [],
   "source": [
    "### GS for Decision Tree\n",
    "parameters = [{'criterion': ['gini', 'entropy'], 'max_depth': [10, 100, 1000]}]\n",
    "GS(dt, parameters, 10)"
   ]
  },
  {
   "cell_type": "code",
   "execution_count": 34,
   "id": "84a79322",
   "metadata": {},
   "outputs": [
    {
     "name": "stdout",
     "output_type": "stream",
     "text": [
      "0.9178233555062822\n",
      "{'criterion': 'gini', 'max_depth': 100}\n"
     ]
    }
   ],
   "source": [
    "GS_results()"
   ]
  },
  {
   "cell_type": "code",
   "execution_count": 16,
   "id": "4825f373",
   "metadata": {},
   "outputs": [
    {
     "name": "stdout",
     "output_type": "stream",
     "text": [
      "0.008974552154541016\n"
     ]
    }
   ],
   "source": [
    "### Decision Tree after GS\n",
    "dt = DecisionTreeClassifier(criterion='gini', max_depth=100, random_state= 42)\n",
    "t1 = time.time()\n",
    "dt.fit(X_train, y_train)\n",
    "t2 = time.time()\n",
    "y_pred = dt.predict(X_test)\n",
    "print(t2-t1)"
   ]
  },
  {
   "cell_type": "code",
   "execution_count": 17,
   "id": "4d0ee1da",
   "metadata": {},
   "outputs": [
    {
     "name": "stdout",
     "output_type": "stream",
     "text": [
      "0.9142335766423357\n",
      "[0.88679245 0.9375     0.90909091]\n",
      "0.914858999198708\n"
     ]
    }
   ],
   "source": [
    "scores(y_test, y_pred)"
   ]
  },
  {
   "cell_type": "code",
   "execution_count": 217,
   "id": "3d0c980b",
   "metadata": {},
   "outputs": [
    {
     "data": {
      "image/png": "[encoded data removed]",
      "text/plain": [
       "<Figure size 432x288 with 2 Axes>"
      ]
     },
     "metadata": {
      "needs_background": "light"
     },
     "output_type": "display_data"
    }
   ],
   "source": [
    "confusion_plot(y_pred, y_test, normal = \"true\", col_map = \"GnBu\", title = \"Decision Tree\", t_col = \"red\", path = path, fig_name = \"Decision Tree.jpg\")"
   ]
  },
  {
   "cell_type": "code",
   "execution_count": 218,
   "id": "55a7f641",
   "metadata": {},
   "outputs": [],
   "source": [
    "### SVM\n",
    "from sklearn.svm import SVC\n",
    "svm = SVC(kernel = 'linear', random_state = 42, C = 10)\n",
    "svm.fit(X_train, y_train)\n",
    "y_pred = svm.predict(X_test)"
   ]
  },
  {
   "cell_type": "code",
   "execution_count": 219,
   "id": "5671764f",
   "metadata": {},
   "outputs": [
    {
     "name": "stdout",
     "output_type": "stream",
     "text": [
      "0.7408759124087592\n",
      "[0.78804348 0.715      0.7195122 ]\n",
      "0.7363851874356573\n"
     ]
    }
   ],
   "source": [
    "scores(y_test, y_pred)"
   ]
  },
  {
   "cell_type": "code",
   "execution_count": 60,
   "id": "bd27cb5b",
   "metadata": {},
   "outputs": [],
   "source": [
    "### GS for SVM\n",
    "parameters = [{'C': [1, 10, 100, 1000], 'kernel': ['linear']},\n",
    "              {'C': [1, 10, 100, 1000], 'kernel': ['rbf'], 'gamma': [0.1, 0.2, 0.3, 0.4, 0.5, 0.6, 0.7, 0.8, 0.9]},\n",
    "              {'C': [1, 10, 100, 1000], 'kernel': ['poly'], 'degree' : [2, 3, 4, 5, 6, 7, 8, 9]}]\n",
    "GS(svm, parameters, 10)"
   ]
  },
  {
   "cell_type": "code",
   "execution_count": 221,
   "id": "105ed8ef",
   "metadata": {},
   "outputs": [
    {
     "name": "stdout",
     "output_type": "stream",
     "text": [
      "0.08982372283935547\n"
     ]
    }
   ],
   "source": [
    "### SVM after GS\n",
    "svm = SVC(kernel = 'rbf', random_state = 42, C = 100, gamma = 0.1)\n",
    "t1 = time.time()\n",
    "svm.fit(X_train, y_train)\n",
    "t2 = time.time()\n",
    "y_pred = svm.predict(X_test)\n",
    "print(t2-t1)"
   ]
  },
  {
   "cell_type": "code",
   "execution_count": 222,
   "id": "c49a72cd",
   "metadata": {},
   "outputs": [
    {
     "name": "stdout",
     "output_type": "stream",
     "text": [
      "0.8832116788321168\n",
      "[0.85358255 0.91235955 0.87272727]\n",
      "0.884048593699144\n"
     ]
    }
   ],
   "source": [
    "scores(y_test, y_pred)"
   ]
  },
  {
   "cell_type": "code",
   "execution_count": 223,
   "id": "de0bda64",
   "metadata": {},
   "outputs": [
    {
     "data": {
      "image/png": "[encoded data removed]",
      "text/plain": [
       "<Figure size 432x288 with 2 Axes>"
      ]
     },
     "metadata": {
      "needs_background": "light"
     },
     "output_type": "display_data"
    }
   ],
   "source": [
    "confusion_plot(y_pred, y_test, normal = \"true\", col_map = \"GnBu\", title = \"Support Vector Machine (SVM)\", t_col = \"red\", path = path, fig_name = \"SVM.jpg\")"
   ]
  },
  {
   "cell_type": "code",
   "execution_count": 224,
   "id": "18eb8a7d",
   "metadata": {},
   "outputs": [],
   "source": [
    "### Random Forest\n",
    "from sklearn.ensemble import RandomForestClassifier\n",
    "rf = RandomForestClassifier(n_estimators = 10, criterion = 'entropy', random_state = 42)\n",
    "rf.fit(X_train, y_train)\n",
    "y_pred = rf.predict(X_test)"
   ]
  },
  {
   "cell_type": "code",
   "execution_count": 225,
   "id": "f21edcf6",
   "metadata": {},
   "outputs": [
    {
     "name": "stdout",
     "output_type": "stream",
     "text": [
      "0.9215328467153284\n",
      "[0.89846154 0.94144144 0.91743119]\n",
      "0.922272248939697\n"
     ]
    }
   ],
   "source": [
    "scores(y_test, y_pred)"
   ]
  },
  {
   "cell_type": "code",
   "execution_count": 68,
   "id": "0501e3fd",
   "metadata": {},
   "outputs": [],
   "source": [
    "### GS for Random Forest\n",
    "parameters = [{'n_estimators': [10, 20, 50, 100, 200, 300, 400, 500, 600, 700, 800, 900, 1000],\n",
    "               'criterion': ['gini', 'entropy'],\n",
    "               'max_depth' : [100, 1000]}]\n",
    "GS(rf, parameters, 10)"
   ]
  },
  {
   "cell_type": "code",
   "execution_count": 226,
   "id": "01b334dd",
   "metadata": {},
   "outputs": [
    {
     "name": "stdout",
     "output_type": "stream",
     "text": [
      "0.582899808883667\n"
     ]
    }
   ],
   "source": [
    "### Random Forest after GS\n",
    "rf = RandomForestClassifier(n_estimators = 300, criterion = 'entropy', random_state = 42, max_depth = 100)\n",
    "t1 = time.time()\n",
    "rf.fit(X_train, y_train)\n",
    "t2 = time.time()\n",
    "y_pred = rf.predict(X_test)\n",
    "print(t2-t1)"
   ]
  },
  {
   "cell_type": "code",
   "execution_count": 227,
   "id": "4bdb0438",
   "metadata": {},
   "outputs": [
    {
     "name": "stdout",
     "output_type": "stream",
     "text": [
      "0.9251824817518248\n",
      "[0.89164087 0.95216401 0.92215569]\n",
      "0.9263430647714702\n"
     ]
    }
   ],
   "source": [
    "scores(y_test, y_pred)"
   ]
  },
  {
   "cell_type": "code",
   "execution_count": 228,
   "id": "9d8ec206",
   "metadata": {},
   "outputs": [
    {
     "data": {
      "image/png": "[encoded data removed]",
      "text/plain": [
       "<Figure size 432x288 with 2 Axes>"
      ]
     },
     "metadata": {
      "needs_background": "light"
     },
     "output_type": "display_data"
    }
   ],
   "source": [
    "confusion_plot(y_pred, y_test, normal = \"true\", col_map = \"GnBu\", title = \"Random Forest\", t_col = \"red\", path = path, fig_name = \"Random Forest.jpg\")"
   ]
  },
  {
   "cell_type": "code",
   "execution_count": 229,
   "id": "e825a853",
   "metadata": {},
   "outputs": [],
   "source": [
    "### AdaBoost\n",
    "from sklearn.ensemble import AdaBoostClassifier\n",
    "ada = AdaBoostClassifier(n_estimators=100, random_state=42)\n",
    "ada.fit(X_train, y_train)\n",
    "y_pred = ada.predict(X_test)"
   ]
  },
  {
   "cell_type": "code",
   "execution_count": 230,
   "id": "a6d69871",
   "metadata": {},
   "outputs": [
    {
     "name": "stdout",
     "output_type": "stream",
     "text": [
      "0.6897810218978102\n",
      "[0.81458967 0.71111111 0.5       ]\n",
      "0.6743300990738481\n"
     ]
    }
   ],
   "source": [
    "scores(y_test, y_pred)"
   ]
  },
  {
   "cell_type": "code",
   "execution_count": 77,
   "id": "97656fcf",
   "metadata": {},
   "outputs": [],
   "source": [
    "### GS for AdaBoost\n",
    "parameters = [{'n_estimators': [10, 20, 50, 100, 200, 300, 400, 500, 600, 700, 800, 900, 1000],\n",
    "               'learning_rate' : [1e-5, 1e-4, 1e-3, 1e-2, .1, .2, .3, .4, .5, .6, .7, .8, .9, 1]}]\n",
    "GS(ada, parameters, 10)"
   ]
  },
  {
   "cell_type": "code",
   "execution_count": 231,
   "id": "c82683fc",
   "metadata": {},
   "outputs": [
    {
     "name": "stdout",
     "output_type": "stream",
     "text": [
      "0.3667910099029541\n"
     ]
    }
   ],
   "source": [
    "### AdaBoost after GS\n",
    "ada = AdaBoostClassifier(n_estimators=200, random_state=42, learning_rate= 1)\n",
    "t1 = time.time()\n",
    "ada.fit(X_train, y_train)\n",
    "t2 = time.time()\n",
    "y_pred = ada.predict(X_test)\n",
    "print(t2-t1)"
   ]
  },
  {
   "cell_type": "code",
   "execution_count": 232,
   "id": "d2b7474b",
   "metadata": {},
   "outputs": [
    {
     "name": "stdout",
     "output_type": "stream",
     "text": [
      "0.7208029197080292\n",
      "[0.81733746 0.70308789 0.65340909]\n",
      "0.7190399296522247\n"
     ]
    }
   ],
   "source": [
    "scores(y_test, y_pred)"
   ]
  },
  {
   "cell_type": "code",
   "execution_count": 233,
   "id": "f9c6089b",
   "metadata": {},
   "outputs": [
    {
     "data": {
      "image/png": "[encoded data removed]",
      "text/plain": [
       "<Figure size 432x288 with 2 Axes>"
      ]
     },
     "metadata": {
      "needs_background": "light"
     },
     "output_type": "display_data"
    }
   ],
   "source": [
    "confusion_plot(y_pred, y_test, normal = \"true\", col_map = \"GnBu\", title = \"Adaptive Boosting (AdaBoost)\", t_col = \"red\", path = path, fig_name = \"AdaBoost.jpg\")"
   ]
  },
  {
   "cell_type": "code",
   "execution_count": 234,
   "id": "001d750c",
   "metadata": {},
   "outputs": [],
   "source": [
    "### MLP\n",
    "from sklearn.neural_network import MLPClassifier\n",
    "mlp = MLPClassifier(random_state=42, max_iter=1000)\n",
    "mlp.fit(X_train, y_train)\n",
    "y_pred = mlp.predict(X_test)"
   ]
  },
  {
   "cell_type": "code",
   "execution_count": 235,
   "id": "de36679c",
   "metadata": {},
   "outputs": [
    {
     "name": "stdout",
     "output_type": "stream",
     "text": [
      "0.8978102189781022\n",
      "[0.89240506 0.91685393 0.87761194]\n",
      "0.8980597225655408\n"
     ]
    }
   ],
   "source": [
    "scores(y_test, y_pred)"
   ]
  },
  {
   "cell_type": "code",
   "execution_count": 88,
   "id": "d20ba1d0",
   "metadata": {},
   "outputs": [],
   "source": [
    "### GS for MLP\n",
    "parameters = [{'solver': ['adam', 'sgd', 'lbfgs'],\n",
    "               'activation': ['identity', 'logistic', 'tanh', 'relu'],\n",
    "               'hidden_layer_sizes' : [(10,), (20,), (50,), (100,), (200,), (500,)]}]\n",
    "GS(mlp, parameters, 10)"
   ]
  },
  {
   "cell_type": "code",
   "execution_count": 236,
   "id": "07ccdbe6",
   "metadata": {},
   "outputs": [
    {
     "name": "stdout",
     "output_type": "stream",
     "text": [
      "5.640354156494141\n"
     ]
    }
   ],
   "source": [
    "### MLP after GS\n",
    "mlp = MLPClassifier(random_state=42, max_iter=1000, activation = \"tanh\", hidden_layer_sizes = (100,), solver = \"adam\")\n",
    "t1 = time.time()\n",
    "mlp.fit(X_train, y_train)\n",
    "t2 = time.time()\n",
    "y_pred = mlp.predict(X_test)\n",
    "print(t2-t1)"
   ]
  },
  {
   "cell_type": "code",
   "execution_count": 237,
   "id": "c1476355",
   "metadata": {},
   "outputs": [
    {
     "name": "stdout",
     "output_type": "stream",
     "text": [
      "0.8996350364963503\n",
      "[0.88073394 0.92448513 0.88554217]\n",
      "0.9004996570632365\n"
     ]
    }
   ],
   "source": [
    "scores(y_test, y_pred)"
   ]
  },
  {
   "cell_type": "code",
   "execution_count": 238,
   "id": "1ff1d779",
   "metadata": {},
   "outputs": [
    {
     "data": {
      "image/png": "[encoded data removed]",
      "text/plain": [
       "<Figure size 432x288 with 2 Axes>"
      ]
     },
     "metadata": {
      "needs_background": "light"
     },
     "output_type": "display_data"
    }
   ],
   "source": [
    "confusion_plot(y_pred, y_test, normal = \"true\", col_map = \"GnBu\", title = \"Multi-Layer Perceptron (MLP)\", t_col = \"red\", path = path, fig_name = \"MLP.jpg\")"
   ]
  },
  {
   "cell_type": "code",
   "execution_count": 239,
   "id": "31aadba4",
   "metadata": {},
   "outputs": [],
   "source": [
    "from sklearn.preprocessing import OneHotEncoder\n",
    "onehotencoder = OneHotEncoder()\n",
    "y_train = onehotencoder.fit_transform(np.reshape(y_train, (-1, 1))).toarray()\n",
    "y_test = onehotencoder.fit_transform(np.reshape(y_test, (-1, 1))).toarray()"
   ]
  },
  {
   "cell_type": "code",
   "execution_count": 253,
   "id": "ebca28ca",
   "metadata": {
    "scrolled": true
   },
   "outputs": [
    {
     "name": "stdout",
     "output_type": "stream",
     "text": [
      "Epoch 1/100\n",
      "165/165 [==============================] - 1s 2ms/step - loss: 0.7430 - accuracy: 0.6896\n",
      "Epoch 2/100\n",
      "165/165 [==============================] - 0s 2ms/step - loss: 0.5477 - accuracy: 0.7651\n",
      "Epoch 3/100\n",
      "165/165 [==============================] - 0s 2ms/step - loss: 0.4811 - accuracy: 0.7925\n",
      "Epoch 4/100\n",
      "165/165 [==============================] - 0s 2ms/step - loss: 0.4365 - accuracy: 0.8162\n",
      "Epoch 5/100\n",
      "165/165 [==============================] - 0s 1ms/step - loss: 0.3931 - accuracy: 0.8381\n",
      "Epoch 6/100\n",
      "165/165 [==============================] - 0s 1ms/step - loss: 0.3600 - accuracy: 0.8509\n",
      "Epoch 7/100\n",
      "165/165 [==============================] - 0s 1ms/step - loss: 0.3312 - accuracy: 0.8606\n",
      "Epoch 8/100\n",
      "165/165 [==============================] - 0s 1ms/step - loss: 0.3138 - accuracy: 0.8746\n",
      "Epoch 9/100\n",
      "165/165 [==============================] - 0s 1ms/step - loss: 0.2909 - accuracy: 0.8758\n",
      "Epoch 10/100\n",
      "165/165 [==============================] - 0s 1ms/step - loss: 0.2755 - accuracy: 0.8795\n",
      "Epoch 11/100\n",
      "165/165 [==============================] - 0s 1ms/step - loss: 0.2546 - accuracy: 0.8947\n",
      "Epoch 12/100\n",
      "165/165 [==============================] - 0s 1ms/step - loss: 0.2460 - accuracy: 0.9051\n",
      "Epoch 13/100\n",
      "165/165 [==============================] - 0s 1ms/step - loss: 0.2358 - accuracy: 0.9038\n",
      "Epoch 14/100\n",
      "165/165 [==============================] - 0s 1ms/step - loss: 0.2208 - accuracy: 0.9087\n",
      "Epoch 15/100\n",
      "165/165 [==============================] - 0s 2ms/step - loss: 0.2208 - accuracy: 0.9038\n",
      "Epoch 16/100\n",
      "165/165 [==============================] - 0s 1ms/step - loss: 0.2121 - accuracy: 0.9069\n",
      "Epoch 17/100\n",
      "165/165 [==============================] - 0s 1ms/step - loss: 0.2034 - accuracy: 0.9166\n",
      "Epoch 18/100\n",
      "165/165 [==============================] - 0s 1ms/step - loss: 0.1938 - accuracy: 0.9130\n",
      "Epoch 19/100\n",
      "165/165 [==============================] - 0s 2ms/step - loss: 0.1940 - accuracy: 0.9166\n",
      "Epoch 20/100\n",
      "165/165 [==============================] - 0s 1ms/step - loss: 0.1938 - accuracy: 0.9215\n",
      "Epoch 21/100\n",
      "165/165 [==============================] - 0s 2ms/step - loss: 0.1882 - accuracy: 0.9178\n",
      "Epoch 22/100\n",
      "165/165 [==============================] - 0s 1ms/step - loss: 0.1788 - accuracy: 0.9215\n",
      "Epoch 23/100\n",
      "165/165 [==============================] - 0s 1ms/step - loss: 0.1745 - accuracy: 0.9184\n",
      "Epoch 24/100\n",
      "165/165 [==============================] - 0s 2ms/step - loss: 0.1696 - accuracy: 0.9251\n",
      "Epoch 25/100\n",
      "165/165 [==============================] - 0s 1ms/step - loss: 0.1695 - accuracy: 0.9270\n",
      "Epoch 26/100\n",
      "165/165 [==============================] - 0s 1ms/step - loss: 0.1670 - accuracy: 0.9209\n",
      "Epoch 27/100\n",
      "165/165 [==============================] - 0s 1ms/step - loss: 0.1652 - accuracy: 0.9257\n",
      "Epoch 28/100\n",
      "165/165 [==============================] - 0s 1ms/step - loss: 0.1597 - accuracy: 0.9270\n",
      "Epoch 29/100\n",
      "165/165 [==============================] - 0s 2ms/step - loss: 0.1581 - accuracy: 0.9282\n",
      "Epoch 30/100\n",
      "165/165 [==============================] - 0s 1ms/step - loss: 0.1549 - accuracy: 0.9343\n",
      "Epoch 31/100\n",
      "165/165 [==============================] - 0s 1ms/step - loss: 0.1623 - accuracy: 0.9270\n",
      "Epoch 32/100\n",
      "165/165 [==============================] - 0s 1ms/step - loss: 0.1470 - accuracy: 0.9330\n",
      "Epoch 33/100\n",
      "165/165 [==============================] - 0s 1ms/step - loss: 0.1521 - accuracy: 0.9306\n",
      "Epoch 34/100\n",
      "165/165 [==============================] - 0s 1ms/step - loss: 0.1505 - accuracy: 0.9288\n",
      "Epoch 35/100\n",
      "165/165 [==============================] - 0s 1ms/step - loss: 0.1416 - accuracy: 0.9428\n",
      "Epoch 36/100\n",
      "165/165 [==============================] - 0s 1ms/step - loss: 0.1393 - accuracy: 0.9306\n",
      "Epoch 37/100\n",
      "165/165 [==============================] - 0s 1ms/step - loss: 0.1409 - accuracy: 0.9349\n",
      "Epoch 38/100\n",
      "165/165 [==============================] - 0s 1ms/step - loss: 0.1382 - accuracy: 0.9318\n",
      "Epoch 39/100\n",
      "165/165 [==============================] - 0s 2ms/step - loss: 0.1281 - accuracy: 0.9446\n",
      "Epoch 40/100\n",
      "165/165 [==============================] - 0s 1ms/step - loss: 0.1376 - accuracy: 0.9355\n",
      "Epoch 41/100\n",
      "165/165 [==============================] - 0s 1ms/step - loss: 0.1379 - accuracy: 0.9355\n",
      "Epoch 42/100\n",
      "165/165 [==============================] - 0s 2ms/step - loss: 0.1340 - accuracy: 0.9379\n",
      "Epoch 43/100\n",
      "165/165 [==============================] - 0s 1ms/step - loss: 0.1339 - accuracy: 0.9397\n",
      "Epoch 44/100\n",
      "165/165 [==============================] - 0s 1ms/step - loss: 0.1308 - accuracy: 0.9361\n",
      "Epoch 45/100\n",
      "165/165 [==============================] - 0s 1ms/step - loss: 0.1318 - accuracy: 0.9361\n",
      "Epoch 46/100\n",
      "165/165 [==============================] - 0s 1ms/step - loss: 0.1305 - accuracy: 0.9367\n",
      "Epoch 47/100\n",
      "165/165 [==============================] - 0s 1ms/step - loss: 0.1207 - accuracy: 0.9458\n",
      "Epoch 48/100\n",
      "165/165 [==============================] - 0s 1ms/step - loss: 0.1271 - accuracy: 0.9452\n",
      "Epoch 49/100\n",
      "165/165 [==============================] - 0s 1ms/step - loss: 0.1217 - accuracy: 0.9404\n",
      "Epoch 50/100\n",
      "165/165 [==============================] - 0s 1ms/step - loss: 0.1265 - accuracy: 0.9397\n",
      "Epoch 51/100\n",
      "165/165 [==============================] - 0s 1ms/step - loss: 0.1235 - accuracy: 0.9428\n",
      "Epoch 52/100\n",
      "165/165 [==============================] - 0s 1ms/step - loss: 0.1260 - accuracy: 0.9410\n",
      "Epoch 53/100\n",
      "165/165 [==============================] - 0s 1ms/step - loss: 0.1380 - accuracy: 0.9404\n",
      "Epoch 54/100\n",
      "165/165 [==============================] - 0s 1ms/step - loss: 0.1321 - accuracy: 0.9422\n",
      "Epoch 55/100\n",
      "165/165 [==============================] - 0s 1ms/step - loss: 0.1322 - accuracy: 0.9397\n",
      "Epoch 56/100\n",
      "165/165 [==============================] - 0s 1ms/step - loss: 0.1160 - accuracy: 0.9422\n",
      "Epoch 57/100\n",
      "165/165 [==============================] - 0s 1ms/step - loss: 0.1101 - accuracy: 0.9452\n",
      "Epoch 58/100\n",
      "165/165 [==============================] - 0s 1ms/step - loss: 0.1197 - accuracy: 0.9452\n",
      "Epoch 59/100\n",
      "165/165 [==============================] - 0s 1ms/step - loss: 0.1184 - accuracy: 0.9440\n",
      "Epoch 60/100\n",
      "165/165 [==============================] - 0s 1ms/step - loss: 0.1171 - accuracy: 0.9428\n",
      "Epoch 61/100\n",
      "165/165 [==============================] - 0s 1ms/step - loss: 0.1187 - accuracy: 0.9464\n",
      "Epoch 62/100\n",
      "165/165 [==============================] - 0s 1ms/step - loss: 0.1164 - accuracy: 0.9452\n",
      "Epoch 63/100\n",
      "165/165 [==============================] - 0s 1ms/step - loss: 0.1175 - accuracy: 0.9416\n",
      "Epoch 64/100\n",
      "165/165 [==============================] - 0s 1ms/step - loss: 0.1256 - accuracy: 0.9385\n",
      "Epoch 65/100\n",
      "165/165 [==============================] - 0s 1ms/step - loss: 0.1327 - accuracy: 0.9477\n",
      "Epoch 66/100\n",
      "165/165 [==============================] - 0s 1ms/step - loss: 0.1176 - accuracy: 0.9385\n",
      "Epoch 67/100\n",
      "165/165 [==============================] - 0s 1ms/step - loss: 0.1095 - accuracy: 0.9470\n",
      "Epoch 68/100\n",
      "165/165 [==============================] - 0s 1ms/step - loss: 0.1104 - accuracy: 0.9489\n",
      "Epoch 69/100\n",
      "165/165 [==============================] - 0s 2ms/step - loss: 0.1072 - accuracy: 0.9489\n",
      "Epoch 70/100\n",
      "165/165 [==============================] - 0s 2ms/step - loss: 0.1075 - accuracy: 0.9416\n",
      "Epoch 71/100\n",
      "165/165 [==============================] - 0s 2ms/step - loss: 0.1120 - accuracy: 0.9446\n",
      "Epoch 72/100\n",
      "165/165 [==============================] - 0s 1ms/step - loss: 0.1102 - accuracy: 0.9525\n",
      "Epoch 73/100\n",
      "165/165 [==============================] - 0s 1ms/step - loss: 0.1180 - accuracy: 0.9458\n",
      "Epoch 74/100\n",
      "165/165 [==============================] - 0s 2ms/step - loss: 0.1193 - accuracy: 0.9446\n",
      "Epoch 75/100\n",
      "165/165 [==============================] - 0s 1ms/step - loss: 0.1112 - accuracy: 0.9470\n",
      "Epoch 76/100\n",
      "165/165 [==============================] - 0s 1ms/step - loss: 0.1114 - accuracy: 0.9434\n",
      "Epoch 77/100\n",
      "165/165 [==============================] - 0s 2ms/step - loss: 0.1060 - accuracy: 0.9501\n",
      "Epoch 78/100\n",
      "165/165 [==============================] - 0s 1ms/step - loss: 0.1165 - accuracy: 0.9452\n",
      "Epoch 79/100\n",
      "165/165 [==============================] - 0s 1ms/step - loss: 0.1048 - accuracy: 0.9489\n",
      "Epoch 80/100\n",
      "165/165 [==============================] - 0s 1ms/step - loss: 0.1017 - accuracy: 0.9507\n",
      "Epoch 81/100\n",
      "165/165 [==============================] - 0s 1ms/step - loss: 0.1103 - accuracy: 0.9422\n",
      "Epoch 82/100\n",
      "165/165 [==============================] - 0s 1ms/step - loss: 0.1039 - accuracy: 0.9458\n",
      "Epoch 83/100\n",
      "165/165 [==============================] - 0s 1ms/step - loss: 0.1053 - accuracy: 0.9501\n",
      "Epoch 84/100\n",
      "165/165 [==============================] - 0s 1ms/step - loss: 0.1001 - accuracy: 0.9531\n",
      "Epoch 85/100\n",
      "165/165 [==============================] - 0s 1ms/step - loss: 0.1052 - accuracy: 0.9483\n",
      "Epoch 86/100\n",
      "165/165 [==============================] - 0s 1ms/step - loss: 0.1125 - accuracy: 0.9440\n",
      "Epoch 87/100\n",
      "165/165 [==============================] - 0s 1ms/step - loss: 0.1365 - accuracy: 0.9404\n",
      "Epoch 88/100\n",
      "165/165 [==============================] - 0s 1ms/step - loss: 0.1012 - accuracy: 0.9562\n",
      "Epoch 89/100\n",
      "165/165 [==============================] - 0s 1ms/step - loss: 0.1054 - accuracy: 0.9464\n",
      "Epoch 90/100\n",
      "165/165 [==============================] - 0s 1ms/step - loss: 0.1032 - accuracy: 0.9458\n",
      "Epoch 91/100\n",
      "165/165 [==============================] - 0s 1ms/step - loss: 0.0988 - accuracy: 0.9495\n",
      "Epoch 92/100\n",
      "165/165 [==============================] - 0s 1ms/step - loss: 0.1025 - accuracy: 0.9446\n",
      "Epoch 93/100\n",
      "165/165 [==============================] - 0s 1ms/step - loss: 0.0988 - accuracy: 0.9507\n",
      "Epoch 94/100\n",
      "165/165 [==============================] - 0s 1ms/step - loss: 0.0985 - accuracy: 0.9464\n",
      "Epoch 95/100\n",
      "165/165 [==============================] - 0s 1ms/step - loss: 0.0997 - accuracy: 0.9507\n",
      "Epoch 96/100\n",
      "165/165 [==============================] - 0s 1ms/step - loss: 0.0982 - accuracy: 0.9531\n",
      "Epoch 97/100\n",
      "165/165 [==============================] - 0s 1ms/step - loss: 0.1040 - accuracy: 0.9477\n",
      "Epoch 98/100\n",
      "165/165 [==============================] - 0s 1ms/step - loss: 0.0985 - accuracy: 0.9501\n",
      "Epoch 99/100\n",
      "165/165 [==============================] - 0s 1ms/step - loss: 0.0967 - accuracy: 0.9501\n",
      "Epoch 100/100\n",
      "165/165 [==============================] - 0s 1ms/step - loss: 0.0988 - accuracy: 0.9458\n",
      "18/18 [==============================] - 0s 1ms/step\n"
     ]
    }
   ],
   "source": [
    "### Neural Newtork\n",
    "import keras\n",
    "from keras.models import Sequential\n",
    "from keras.layers import Dense\n",
    "\n",
    "nn = Sequential()\n",
    "\n",
    "nn.add(Dense(units = 64, activation= 'relu', input_dim = 20)) \n",
    "nn.add(Dense(units = 128, activation= 'relu'))\n",
    "\n",
    "nn.add(Dense(units = 3, activation= 'softmax'))\n",
    "\n",
    "\n",
    "nn.compile(optimizer = 'adam', loss = 'categorical_crossentropy', metrics = ['accuracy'])\n",
    "\n",
    "\n",
    "nn.fit(X_train, y_train, batch_size = 10, epochs = 100)\n",
    "\n",
    "y_pred = nn.predict(X_test)\n",
    "\n",
    "for i in range(len(y_pred)):\n",
    "    y_pred[i, maximum_position(y_pred[i])] = 1\n",
    "        \n",
    "y_pred = (y_pred == 1)"
   ]
  },
  {
   "cell_type": "code",
   "execution_count": 241,
   "id": "12693ca2",
   "metadata": {},
   "outputs": [
    {
     "name": "stdout",
     "output_type": "stream",
     "text": [
      "Model: \"sequential_8\"\n",
      "_________________________________________________________________\n",
      " Layer (type)                Output Shape              Param #   \n",
      "=================================================================\n",
      " dense_30 (Dense)            (None, 64)                1344      \n",
      "                                                                 \n",
      " dense_31 (Dense)            (None, 128)               8320      \n",
      "                                                                 \n",
      " dense_32 (Dense)            (None, 3)                 387       \n",
      "                                                                 \n",
      "=================================================================\n",
      "Total params: 10,051\n",
      "Trainable params: 10,051\n",
      "Non-trainable params: 0\n",
      "_________________________________________________________________\n"
     ]
    }
   ],
   "source": [
    "### Neural Network's Architecture\n",
    "nn.summary()"
   ]
  },
  {
   "cell_type": "code",
   "execution_count": 254,
   "id": "0c28d164",
   "metadata": {
    "scrolled": true
   },
   "outputs": [
    {
     "name": "stdout",
     "output_type": "stream",
     "text": [
      "0.8905109489051095\n",
      "[0.90140845 0.91466083 0.85070423]\n",
      "0.8913095111421454\n"
     ]
    }
   ],
   "source": [
    "scores(y_test, y_pred)"
   ]
  },
  {
   "cell_type": "code",
   "execution_count": 260,
   "id": "f5c7cafd",
   "metadata": {},
   "outputs": [
    {
     "name": "stdout",
     "output_type": "stream",
     "text": [
      "Epoch 1/100\n",
      "33/33 [==============================] - 0s 2ms/step - loss: 0.9443\n",
      "Epoch 2/100\n",
      "33/33 [==============================] - 0s 1ms/step - loss: 0.6911\n",
      "Epoch 3/100\n",
      "33/33 [==============================] - 0s 1ms/step - loss: 0.5940\n",
      "Epoch 4/100\n",
      "33/33 [==============================] - 0s 1ms/step - loss: 0.5346\n",
      "Epoch 5/100\n",
      "33/33 [==============================] - 0s 1ms/step - loss: 0.4910\n",
      "Epoch 6/100\n",
      "33/33 [==============================] - 0s 1ms/step - loss: 0.4654\n",
      "Epoch 7/100\n",
      "33/33 [==============================] - 0s 1ms/step - loss: 0.4338\n",
      "Epoch 8/100\n",
      "33/33 [==============================] - 0s 1ms/step - loss: 0.4107\n",
      "Epoch 9/100\n",
      "33/33 [==============================] - 0s 1ms/step - loss: 0.3948\n",
      "Epoch 10/100\n",
      "33/33 [==============================] - 0s 1ms/step - loss: 0.3749\n",
      "Epoch 11/100\n",
      "33/33 [==============================] - 0s 1ms/step - loss: 0.3593\n",
      "Epoch 12/100\n",
      "33/33 [==============================] - 0s 2ms/step - loss: 0.3423\n",
      "Epoch 13/100\n",
      "33/33 [==============================] - 0s 1ms/step - loss: 0.3403\n",
      "Epoch 14/100\n",
      "33/33 [==============================] - 0s 1ms/step - loss: 0.3250\n",
      "Epoch 15/100\n",
      "33/33 [==============================] - 0s 1ms/step - loss: 0.3070\n",
      "Epoch 16/100\n",
      "33/33 [==============================] - 0s 1ms/step - loss: 0.3010\n",
      "Epoch 17/100\n",
      "33/33 [==============================] - 0s 1ms/step - loss: 0.2904\n",
      "Epoch 18/100\n",
      "33/33 [==============================] - 0s 1ms/step - loss: 0.2802\n",
      "Epoch 19/100\n",
      "33/33 [==============================] - 0s 2ms/step - loss: 0.2778\n",
      "Epoch 20/100\n",
      "33/33 [==============================] - 0s 2ms/step - loss: 0.2603\n",
      "Epoch 21/100\n",
      "33/33 [==============================] - 0s 1ms/step - loss: 0.2577\n",
      "Epoch 22/100\n",
      "33/33 [==============================] - 0s 1ms/step - loss: 0.2509\n",
      "Epoch 23/100\n",
      "33/33 [==============================] - 0s 1ms/step - loss: 0.2456\n",
      "Epoch 24/100\n",
      "33/33 [==============================] - 0s 1ms/step - loss: 0.2349\n",
      "Epoch 25/100\n",
      "33/33 [==============================] - 0s 1ms/step - loss: 0.2324\n",
      "Epoch 26/100\n",
      "33/33 [==============================] - 0s 2ms/step - loss: 0.2305\n",
      "Epoch 27/100\n",
      "33/33 [==============================] - 0s 2ms/step - loss: 0.2190\n",
      "Epoch 28/100\n",
      "33/33 [==============================] - 0s 2ms/step - loss: 0.2174\n",
      "Epoch 29/100\n",
      "33/33 [==============================] - 0s 1ms/step - loss: 0.2112\n",
      "Epoch 30/100\n",
      "33/33 [==============================] - 0s 1ms/step - loss: 0.2156\n",
      "Epoch 31/100\n",
      "33/33 [==============================] - 0s 1ms/step - loss: 0.2049\n",
      "Epoch 32/100\n",
      "33/33 [==============================] - 0s 1ms/step - loss: 0.2050\n",
      "Epoch 33/100\n",
      "33/33 [==============================] - 0s 1ms/step - loss: 0.2040\n",
      "Epoch 34/100\n",
      "33/33 [==============================] - 0s 2ms/step - loss: 0.2017\n",
      "Epoch 35/100\n",
      "33/33 [==============================] - 0s 1ms/step - loss: 0.1967\n",
      "Epoch 36/100\n",
      "33/33 [==============================] - 0s 1ms/step - loss: 0.1904\n",
      "Epoch 37/100\n",
      "33/33 [==============================] - 0s 1ms/step - loss: 0.1917\n",
      "Epoch 38/100\n",
      "33/33 [==============================] - 0s 2ms/step - loss: 0.1929\n",
      "Epoch 39/100\n",
      "33/33 [==============================] - 0s 1ms/step - loss: 0.1824\n",
      "Epoch 40/100\n",
      "33/33 [==============================] - 0s 1ms/step - loss: 0.1836\n",
      "Epoch 41/100\n",
      "33/33 [==============================] - 0s 1ms/step - loss: 0.1734\n",
      "Epoch 42/100\n",
      "33/33 [==============================] - 0s 1ms/step - loss: 0.1675\n",
      "Epoch 43/100\n",
      "33/33 [==============================] - 0s 1ms/step - loss: 0.1694\n",
      "Epoch 44/100\n",
      "33/33 [==============================] - 0s 1ms/step - loss: 0.1686\n",
      "Epoch 45/100\n",
      "33/33 [==============================] - 0s 2ms/step - loss: 0.1745\n",
      "Epoch 46/100\n",
      "33/33 [==============================] - 0s 2ms/step - loss: 0.1698\n",
      "Epoch 47/100\n",
      "33/33 [==============================] - 0s 1ms/step - loss: 0.1617\n",
      "Epoch 48/100\n",
      "33/33 [==============================] - 0s 1ms/step - loss: 0.1666\n",
      "Epoch 49/100\n",
      "33/33 [==============================] - 0s 1ms/step - loss: 0.1553\n",
      "Epoch 50/100\n",
      "33/33 [==============================] - 0s 1ms/step - loss: 0.1553\n",
      "Epoch 51/100\n",
      "33/33 [==============================] - 0s 2ms/step - loss: 0.1561\n",
      "Epoch 52/100\n",
      "33/33 [==============================] - 0s 2ms/step - loss: 0.1616\n",
      "Epoch 53/100\n",
      "33/33 [==============================] - 0s 1ms/step - loss: 0.1567\n",
      "Epoch 54/100\n",
      "33/33 [==============================] - 0s 2ms/step - loss: 0.1466\n",
      "Epoch 55/100\n",
      "33/33 [==============================] - 0s 1ms/step - loss: 0.1482\n",
      "Epoch 56/100\n",
      "33/33 [==============================] - 0s 1ms/step - loss: 0.1501\n",
      "Epoch 57/100\n",
      "33/33 [==============================] - 0s 1ms/step - loss: 0.1483\n",
      "Epoch 58/100\n",
      "33/33 [==============================] - 0s 1ms/step - loss: 0.1490\n",
      "Epoch 59/100\n",
      "33/33 [==============================] - 0s 1ms/step - loss: 0.1449\n",
      "Epoch 60/100\n",
      "33/33 [==============================] - 0s 2ms/step - loss: 0.1389\n",
      "Epoch 61/100\n",
      "33/33 [==============================] - 0s 2ms/step - loss: 0.1380\n",
      "Epoch 62/100\n",
      "33/33 [==============================] - 0s 1ms/step - loss: 0.1394\n",
      "Epoch 63/100\n",
      "33/33 [==============================] - 0s 1ms/step - loss: 0.1413\n",
      "Epoch 64/100\n",
      "33/33 [==============================] - 0s 1ms/step - loss: 0.1343\n",
      "Epoch 65/100\n",
      "33/33 [==============================] - 0s 1ms/step - loss: 0.1398\n",
      "Epoch 66/100\n",
      "33/33 [==============================] - 0s 1ms/step - loss: 0.1360\n",
      "Epoch 67/100\n",
      "33/33 [==============================] - 0s 1ms/step - loss: 0.1415\n",
      "Epoch 68/100\n",
      "33/33 [==============================] - 0s 1ms/step - loss: 0.1418\n",
      "Epoch 69/100\n",
      "33/33 [==============================] - 0s 1ms/step - loss: 0.1381\n",
      "Epoch 70/100\n",
      "33/33 [==============================] - 0s 1ms/step - loss: 0.1312\n",
      "Epoch 71/100\n",
      "33/33 [==============================] - 0s 1ms/step - loss: 0.1283\n",
      "Epoch 72/100\n",
      "33/33 [==============================] - 0s 1ms/step - loss: 0.1327\n",
      "Epoch 73/100\n",
      "33/33 [==============================] - 0s 1ms/step - loss: 0.1313\n",
      "Epoch 74/100\n",
      "33/33 [==============================] - 0s 1ms/step - loss: 0.1266\n",
      "Epoch 75/100\n",
      "33/33 [==============================] - 0s 1ms/step - loss: 0.1353\n",
      "Epoch 76/100\n",
      "33/33 [==============================] - 0s 1ms/step - loss: 0.1244\n",
      "Epoch 77/100\n",
      "33/33 [==============================] - 0s 1ms/step - loss: 0.1234\n",
      "Epoch 78/100\n",
      "33/33 [==============================] - 0s 1ms/step - loss: 0.1228\n",
      "Epoch 79/100\n",
      "33/33 [==============================] - 0s 1ms/step - loss: 0.1256\n",
      "Epoch 80/100\n",
      "33/33 [==============================] - 0s 2ms/step - loss: 0.1221\n",
      "Epoch 81/100\n",
      "33/33 [==============================] - 0s 2ms/step - loss: 0.1235\n",
      "Epoch 82/100\n",
      "33/33 [==============================] - 0s 2ms/step - loss: 0.1289\n",
      "Epoch 83/100\n",
      "33/33 [==============================] - 0s 2ms/step - loss: 0.1344\n",
      "Epoch 84/100\n",
      "33/33 [==============================] - 0s 2ms/step - loss: 0.1261\n",
      "Epoch 85/100\n",
      "33/33 [==============================] - 0s 2ms/step - loss: 0.1187\n",
      "Epoch 86/100\n",
      "33/33 [==============================] - 0s 2ms/step - loss: 0.1211\n",
      "Epoch 87/100\n",
      "33/33 [==============================] - 0s 2ms/step - loss: 0.1154\n",
      "Epoch 88/100\n",
      "33/33 [==============================] - 0s 2ms/step - loss: 0.1202\n",
      "Epoch 89/100\n",
      "33/33 [==============================] - 0s 2ms/step - loss: 0.1273\n",
      "Epoch 90/100\n",
      "33/33 [==============================] - 0s 1ms/step - loss: 0.1246\n",
      "Epoch 91/100\n",
      "33/33 [==============================] - 0s 2ms/step - loss: 0.1264\n",
      "Epoch 92/100\n",
      "33/33 [==============================] - 0s 2ms/step - loss: 0.1205\n",
      "Epoch 93/100\n",
      "33/33 [==============================] - 0s 2ms/step - loss: 0.1140\n",
      "Epoch 94/100\n",
      "33/33 [==============================] - 0s 2ms/step - loss: 0.1147\n",
      "Epoch 95/100\n",
      "33/33 [==============================] - 0s 1ms/step - loss: 0.1123\n",
      "Epoch 96/100\n",
      "33/33 [==============================] - 0s 2ms/step - loss: 0.1225\n",
      "Epoch 97/100\n",
      "33/33 [==============================] - 0s 2ms/step - loss: 0.1165\n",
      "Epoch 98/100\n",
      "33/33 [==============================] - 0s 2ms/step - loss: 0.1099\n",
      "Epoch 99/100\n",
      "33/33 [==============================] - 0s 2ms/step - loss: 0.1099\n",
      "Epoch 100/100\n",
      "33/33 [==============================] - 0s 1ms/step - loss: 0.1192\n",
      "0.8940946045824095\n",
      "{'batch_size': 50, 'epochs': 100, 'optimizer': 'Adam'}\n"
     ]
    }
   ],
   "source": [
    "### GS for Neural Network\n",
    "model = KerasClassifier(model = mod, loss = \"categorical_crossentropy\", batch_size = 10, epochs = 100)\n",
    "parameters = [{'optimizer': ['SGD', 'RMSprop', 'Adam'],\n",
    "               'batch_size': [10, 20, 50, 100],\n",
    "               'epochs' : [10, 20, 50, 100]}]\n",
    "GS(model, parameters, 10)"
   ]
  },
  {
   "cell_type": "code",
   "execution_count": 266,
   "id": "61099cbf",
   "metadata": {},
   "outputs": [
    {
     "name": "stdout",
     "output_type": "stream",
     "text": [
      "Epoch 1/100\n",
      "33/33 [==============================] - 0s 2ms/step - loss: 0.8614 - accuracy: 0.6287\n",
      "Epoch 2/100\n",
      "33/33 [==============================] - 0s 1ms/step - loss: 0.6475 - accuracy: 0.7194\n",
      "Epoch 3/100\n",
      "33/33 [==============================] - 0s 1ms/step - loss: 0.5665 - accuracy: 0.7492\n",
      "Epoch 4/100\n",
      "33/33 [==============================] - 0s 1ms/step - loss: 0.5129 - accuracy: 0.7827\n",
      "Epoch 5/100\n",
      "33/33 [==============================] - 0s 1ms/step - loss: 0.4752 - accuracy: 0.7967\n",
      "Epoch 6/100\n",
      "33/33 [==============================] - 0s 1ms/step - loss: 0.4455 - accuracy: 0.8095\n",
      "Epoch 7/100\n",
      "33/33 [==============================] - 0s 1ms/step - loss: 0.4197 - accuracy: 0.8265\n",
      "Epoch 8/100\n",
      "33/33 [==============================] - 0s 1ms/step - loss: 0.4032 - accuracy: 0.8235\n",
      "Epoch 9/100\n",
      "33/33 [==============================] - 0s 2ms/step - loss: 0.3857 - accuracy: 0.8271\n",
      "Epoch 10/100\n",
      "33/33 [==============================] - 0s 2ms/step - loss: 0.3626 - accuracy: 0.8460\n",
      "Epoch 11/100\n",
      "33/33 [==============================] - 0s 2ms/step - loss: 0.3477 - accuracy: 0.8442\n",
      "Epoch 12/100\n",
      "33/33 [==============================] - 0s 1ms/step - loss: 0.3347 - accuracy: 0.8478\n",
      "Epoch 13/100\n",
      "33/33 [==============================] - 0s 2ms/step - loss: 0.3214 - accuracy: 0.8631\n",
      "Epoch 14/100\n",
      "33/33 [==============================] - 0s 2ms/step - loss: 0.3149 - accuracy: 0.8637\n",
      "Epoch 15/100\n",
      "33/33 [==============================] - 0s 2ms/step - loss: 0.3004 - accuracy: 0.8685\n",
      "Epoch 16/100\n",
      "33/33 [==============================] - 0s 2ms/step - loss: 0.2967 - accuracy: 0.8685\n",
      "Epoch 17/100\n",
      "33/33 [==============================] - 0s 2ms/step - loss: 0.2842 - accuracy: 0.8728\n",
      "Epoch 18/100\n",
      "33/33 [==============================] - 0s 1ms/step - loss: 0.2721 - accuracy: 0.8825\n",
      "Epoch 19/100\n",
      "33/33 [==============================] - 0s 2ms/step - loss: 0.2608 - accuracy: 0.8941\n",
      "Epoch 20/100\n",
      "33/33 [==============================] - 0s 1ms/step - loss: 0.2549 - accuracy: 0.8947\n",
      "Epoch 21/100\n",
      "33/33 [==============================] - 0s 1ms/step - loss: 0.2485 - accuracy: 0.8996\n",
      "Epoch 22/100\n",
      "33/33 [==============================] - 0s 2ms/step - loss: 0.2409 - accuracy: 0.8984\n",
      "Epoch 23/100\n",
      "33/33 [==============================] - 0s 2ms/step - loss: 0.2366 - accuracy: 0.8971\n",
      "Epoch 24/100\n",
      "33/33 [==============================] - 0s 2ms/step - loss: 0.2342 - accuracy: 0.9020\n",
      "Epoch 25/100\n",
      "33/33 [==============================] - 0s 1ms/step - loss: 0.2223 - accuracy: 0.9099\n",
      "Epoch 26/100\n",
      "33/33 [==============================] - 0s 1ms/step - loss: 0.2169 - accuracy: 0.9069\n",
      "Epoch 27/100\n",
      "33/33 [==============================] - 0s 2ms/step - loss: 0.2141 - accuracy: 0.9124\n",
      "Epoch 28/100\n",
      "33/33 [==============================] - 0s 2ms/step - loss: 0.2142 - accuracy: 0.9093\n",
      "Epoch 29/100\n",
      "33/33 [==============================] - 0s 2ms/step - loss: 0.2061 - accuracy: 0.9166\n",
      "Epoch 30/100\n",
      "33/33 [==============================] - 0s 2ms/step - loss: 0.2030 - accuracy: 0.9178\n",
      "Epoch 31/100\n",
      "33/33 [==============================] - 0s 2ms/step - loss: 0.2003 - accuracy: 0.9160\n",
      "Epoch 32/100\n",
      "33/33 [==============================] - 0s 2ms/step - loss: 0.1921 - accuracy: 0.9172\n",
      "Epoch 33/100\n",
      "33/33 [==============================] - 0s 2ms/step - loss: 0.1882 - accuracy: 0.9227\n",
      "Epoch 34/100\n",
      "33/33 [==============================] - 0s 2ms/step - loss: 0.1934 - accuracy: 0.9172\n",
      "Epoch 35/100\n",
      "33/33 [==============================] - 0s 2ms/step - loss: 0.1934 - accuracy: 0.9142\n",
      "Epoch 36/100\n",
      "33/33 [==============================] - 0s 2ms/step - loss: 0.1986 - accuracy: 0.9130\n",
      "Epoch 37/100\n",
      "33/33 [==============================] - 0s 2ms/step - loss: 0.1845 - accuracy: 0.9191\n",
      "Epoch 38/100\n",
      "33/33 [==============================] - 0s 2ms/step - loss: 0.1765 - accuracy: 0.9191\n",
      "Epoch 39/100\n",
      "33/33 [==============================] - 0s 2ms/step - loss: 0.1738 - accuracy: 0.9233\n",
      "Epoch 40/100\n",
      "33/33 [==============================] - 0s 2ms/step - loss: 0.1754 - accuracy: 0.9306\n",
      "Epoch 41/100\n",
      "33/33 [==============================] - 0s 2ms/step - loss: 0.1683 - accuracy: 0.9306\n",
      "Epoch 42/100\n",
      "33/33 [==============================] - 0s 2ms/step - loss: 0.1696 - accuracy: 0.9306\n",
      "Epoch 43/100\n",
      "33/33 [==============================] - 0s 2ms/step - loss: 0.1729 - accuracy: 0.9288\n",
      "Epoch 44/100\n",
      "33/33 [==============================] - 0s 2ms/step - loss: 0.1638 - accuracy: 0.9257\n",
      "Epoch 45/100\n",
      "33/33 [==============================] - 0s 3ms/step - loss: 0.1696 - accuracy: 0.9257\n",
      "Epoch 46/100\n",
      "33/33 [==============================] - 0s 2ms/step - loss: 0.1631 - accuracy: 0.9288\n",
      "Epoch 47/100\n",
      "33/33 [==============================] - 0s 1ms/step - loss: 0.1604 - accuracy: 0.9270\n",
      "Epoch 48/100\n",
      "33/33 [==============================] - 0s 2ms/step - loss: 0.1697 - accuracy: 0.9276\n",
      "Epoch 49/100\n",
      "33/33 [==============================] - 0s 2ms/step - loss: 0.1578 - accuracy: 0.9330\n",
      "Epoch 50/100\n",
      "33/33 [==============================] - 0s 2ms/step - loss: 0.1573 - accuracy: 0.9337\n",
      "Epoch 51/100\n",
      "33/33 [==============================] - 0s 2ms/step - loss: 0.1503 - accuracy: 0.9373\n",
      "Epoch 52/100\n",
      "33/33 [==============================] - 0s 1ms/step - loss: 0.1599 - accuracy: 0.9312\n",
      "Epoch 53/100\n",
      "33/33 [==============================] - 0s 2ms/step - loss: 0.1513 - accuracy: 0.9312\n",
      "Epoch 54/100\n",
      "33/33 [==============================] - 0s 2ms/step - loss: 0.1549 - accuracy: 0.9355\n",
      "Epoch 55/100\n",
      "33/33 [==============================] - 0s 2ms/step - loss: 0.1551 - accuracy: 0.9337\n",
      "Epoch 56/100\n",
      "33/33 [==============================] - 0s 1ms/step - loss: 0.1540 - accuracy: 0.9318\n",
      "Epoch 57/100\n",
      "33/33 [==============================] - 0s 1ms/step - loss: 0.1439 - accuracy: 0.9416\n",
      "Epoch 58/100\n",
      "33/33 [==============================] - 0s 1ms/step - loss: 0.1453 - accuracy: 0.9385\n",
      "Epoch 59/100\n",
      "33/33 [==============================] - 0s 1ms/step - loss: 0.1440 - accuracy: 0.9373\n",
      "Epoch 60/100\n",
      "33/33 [==============================] - 0s 1ms/step - loss: 0.1442 - accuracy: 0.9337\n",
      "Epoch 61/100\n",
      "33/33 [==============================] - 0s 1ms/step - loss: 0.1538 - accuracy: 0.9391\n",
      "Epoch 62/100\n",
      "33/33 [==============================] - 0s 1ms/step - loss: 0.1382 - accuracy: 0.9379\n",
      "Epoch 63/100\n",
      "33/33 [==============================] - 0s 1ms/step - loss: 0.1392 - accuracy: 0.9379\n",
      "Epoch 64/100\n",
      "33/33 [==============================] - 0s 1ms/step - loss: 0.1446 - accuracy: 0.9416\n",
      "Epoch 65/100\n",
      "33/33 [==============================] - 0s 1ms/step - loss: 0.1483 - accuracy: 0.9312\n",
      "Epoch 66/100\n",
      "33/33 [==============================] - 0s 2ms/step - loss: 0.1432 - accuracy: 0.9373\n",
      "Epoch 67/100\n",
      "33/33 [==============================] - 0s 1ms/step - loss: 0.1367 - accuracy: 0.9379\n",
      "Epoch 68/100\n",
      "33/33 [==============================] - 0s 2ms/step - loss: 0.1332 - accuracy: 0.9434\n",
      "Epoch 69/100\n",
      "33/33 [==============================] - 0s 1ms/step - loss: 0.1297 - accuracy: 0.9397\n",
      "Epoch 70/100\n",
      "33/33 [==============================] - 0s 1ms/step - loss: 0.1330 - accuracy: 0.9355\n",
      "Epoch 71/100\n",
      "33/33 [==============================] - 0s 1ms/step - loss: 0.1368 - accuracy: 0.9379\n",
      "Epoch 72/100\n",
      "33/33 [==============================] - 0s 1ms/step - loss: 0.1447 - accuracy: 0.9373\n",
      "Epoch 73/100\n",
      "33/33 [==============================] - 0s 1ms/step - loss: 0.1338 - accuracy: 0.9410\n",
      "Epoch 74/100\n",
      "33/33 [==============================] - 0s 976us/step - loss: 0.1389 - accuracy: 0.9361\n",
      "Epoch 75/100\n",
      "33/33 [==============================] - 0s 1ms/step - loss: 0.1330 - accuracy: 0.9391\n",
      "Epoch 76/100\n",
      "33/33 [==============================] - 0s 1ms/step - loss: 0.1328 - accuracy: 0.9361\n",
      "Epoch 77/100\n",
      "33/33 [==============================] - 0s 976us/step - loss: 0.1301 - accuracy: 0.9483\n",
      "Epoch 78/100\n",
      "33/33 [==============================] - 0s 2ms/step - loss: 0.1308 - accuracy: 0.9428\n",
      "Epoch 79/100\n",
      "33/33 [==============================] - 0s 1ms/step - loss: 0.1257 - accuracy: 0.9446\n",
      "Epoch 80/100\n",
      "33/33 [==============================] - 0s 1ms/step - loss: 0.1272 - accuracy: 0.9452\n",
      "Epoch 81/100\n",
      "33/33 [==============================] - 0s 1ms/step - loss: 0.1342 - accuracy: 0.9404\n",
      "Epoch 82/100\n",
      "33/33 [==============================] - 0s 1ms/step - loss: 0.1330 - accuracy: 0.9410\n"
     ]
    },
    {
     "name": "stdout",
     "output_type": "stream",
     "text": [
      "Epoch 83/100\n",
      "33/33 [==============================] - 0s 1ms/step - loss: 0.1277 - accuracy: 0.9446\n",
      "Epoch 84/100\n",
      "33/33 [==============================] - 0s 1ms/step - loss: 0.1223 - accuracy: 0.9446\n",
      "Epoch 85/100\n",
      "33/33 [==============================] - 0s 1ms/step - loss: 0.1251 - accuracy: 0.9385\n",
      "Epoch 86/100\n",
      "33/33 [==============================] - 0s 1ms/step - loss: 0.1271 - accuracy: 0.9422\n",
      "Epoch 87/100\n",
      "33/33 [==============================] - 0s 2ms/step - loss: 0.1207 - accuracy: 0.9446\n",
      "Epoch 88/100\n",
      "33/33 [==============================] - 0s 1ms/step - loss: 0.1226 - accuracy: 0.9428\n",
      "Epoch 89/100\n",
      "33/33 [==============================] - 0s 1ms/step - loss: 0.1220 - accuracy: 0.9434\n",
      "Epoch 90/100\n",
      "33/33 [==============================] - 0s 1ms/step - loss: 0.1182 - accuracy: 0.9501\n",
      "Epoch 91/100\n",
      "33/33 [==============================] - 0s 2ms/step - loss: 0.1169 - accuracy: 0.9458\n",
      "Epoch 92/100\n",
      "33/33 [==============================] - 0s 1ms/step - loss: 0.1179 - accuracy: 0.9489\n",
      "Epoch 93/100\n",
      "33/33 [==============================] - 0s 2ms/step - loss: 0.1165 - accuracy: 0.9452\n",
      "Epoch 94/100\n",
      "33/33 [==============================] - 0s 2ms/step - loss: 0.1174 - accuracy: 0.9464\n",
      "Epoch 95/100\n",
      "33/33 [==============================] - 0s 1ms/step - loss: 0.1239 - accuracy: 0.9367\n",
      "Epoch 96/100\n",
      "33/33 [==============================] - 0s 1ms/step - loss: 0.1159 - accuracy: 0.9464\n",
      "Epoch 97/100\n",
      "33/33 [==============================] - 0s 1ms/step - loss: 0.1185 - accuracy: 0.9440\n",
      "Epoch 98/100\n",
      "33/33 [==============================] - 0s 1ms/step - loss: 0.1261 - accuracy: 0.9428\n",
      "Epoch 99/100\n",
      "33/33 [==============================] - 0s 2ms/step - loss: 0.1196 - accuracy: 0.9458\n",
      "Epoch 100/100\n",
      "33/33 [==============================] - 0s 2ms/step - loss: 0.1262 - accuracy: 0.9404\n",
      "18/18 [==============================] - 0s 2ms/step\n",
      "5.781631946563721\n"
     ]
    }
   ],
   "source": [
    "### Neural Newtork after GS\n",
    "import keras\n",
    "from keras.models import Sequential\n",
    "from keras.layers import Dense\n",
    "\n",
    "nn = Sequential()\n",
    "\n",
    "nn.add(Dense(units = 64, activation= 'relu', input_dim = 20)) \n",
    "nn.add(Dense(units = 128, activation= 'relu'))\n",
    "\n",
    "nn.add(Dense(units = 3, activation= 'softmax'))\n",
    "\n",
    "nn.compile(optimizer = 'adam', loss = 'categorical_crossentropy', metrics = ['accuracy'])\n",
    "\n",
    "t1 = time.time()\n",
    "nn.fit(X_train, y_train, batch_size = 50, epochs = 100)\n",
    "t2 = time.time()\n",
    "\n",
    "y_pred = nn.predict(X_test)\n",
    "\n",
    "for i in range(len(y_pred)):\n",
    "    y_pred[i, maximum_position(y_pred[i])] = 1\n",
    "        \n",
    "y_pred = (y_pred == 1)\n",
    "print(t2-t1)"
   ]
  },
  {
   "cell_type": "code",
   "execution_count": 267,
   "id": "be43d17f",
   "metadata": {},
   "outputs": [
    {
     "name": "stdout",
     "output_type": "stream",
     "text": [
      "0.8868613138686131\n",
      "[0.9023569  0.89485459 0.86363636]\n",
      "0.8872806223207929\n"
     ]
    }
   ],
   "source": [
    "### Doing the inverse encoding, since sns.heatmap function only accepts 1-D arrays\n",
    "y_pred_alter = inv_encode(y_pred)\n",
    "y_test_alter = inv_encode(y_test)\n",
    "scores(y_test_alter, y_pred_alter)"
   ]
  },
  {
   "cell_type": "code",
   "execution_count": 268,
   "id": "93557804",
   "metadata": {},
   "outputs": [
    {
     "data": {
      "image/png": "[encoded data removed]",
      "text/plain": [
       "<Figure size 432x288 with 2 Axes>"
      ]
     },
     "metadata": {
      "needs_background": "light"
     },
     "output_type": "display_data"
    }
   ],
   "source": [
    "confusion_plot(y_pred_alter, y_test_alter, normal = \"true\", col_map = \"GnBu\", title = \"3-Layer Neural Network\", t_col = \"red\", path = path, fig_name = \"3-NN.jpg\")"
   ]
  }
 ],
 "metadata": {
  "kernelspec": {
   "display_name": "Python 3 (ipykernel)",
   "language": "python",
   "name": "python3"
  },
  "language_info": {
   "codemirror_mode": {
    "name": "ipython",
    "version": 3
   },
   "file_extension": ".py",
   "mimetype": "text/x-python",
   "name": "python",
   "nbconvert_exporter": "python",
   "pygments_lexer": "ipython3",
   "version": "3.9.7"
  }
 },
 "nbformat": 4,
 "nbformat_minor": 5
}
